{
 "cells": [
  {
   "cell_type": "markdown",
   "metadata": {},
   "source": [
    "# MNIST Dataset Classification\n",
    "\n",
    "In this notebook, we will be looking at the famous MNIST Classification Problem. <br>\n",
    "\n",
    "First, we will test two different classifiers to see which one works well. <br>\n",
    "Second, we will multiply our dataset by shifting pixels around to see if more info helps the accuracy."
   ]
  },
  {
   "cell_type": "code",
   "execution_count": 1,
   "metadata": {},
   "outputs": [],
   "source": [
    "from sklearn.datasets import fetch_openml\n",
    "import numpy as np\n",
    "mnist = fetch_openml(\"mnist_784\", version = 1)"
   ]
  },
  {
   "cell_type": "code",
   "execution_count": 2,
   "metadata": {},
   "outputs": [],
   "source": [
    "X, y = mnist[\"data\"], mnist[\"target\"]\n"
   ]
  },
  {
   "cell_type": "markdown",
   "metadata": {},
   "source": [
    "# Splitting the Test Set and Training Set"
   ]
  },
  {
   "cell_type": "code",
   "execution_count": 3,
   "metadata": {},
   "outputs": [],
   "source": [
    "X_train, X_test, y_train, y_test = X[:60000], X[60000:], y[:60000], y[60000:]"
   ]
  },
  {
   "cell_type": "markdown",
   "metadata": {},
   "source": [
    "# Trying Different Algorithms: Random Forest, KNN"
   ]
  },
  {
   "cell_type": "code",
   "execution_count": 4,
   "metadata": {},
   "outputs": [
    {
     "name": "stdout",
     "output_type": "stream",
     "text": [
      "Accuracy of Random Forest is: 0.9705\n"
     ]
    }
   ],
   "source": [
    "from sklearn.ensemble import RandomForestClassifier\n",
    "from sklearn.metrics import accuracy_score\n",
    "\n",
    "forest = RandomForestClassifier(n_estimators=100)\n",
    "\n",
    "forest.fit(X_train, y_train)\n",
    "prediction = forest.predict(X_test)\n",
    "print(\"Accuracy of Random Forest is:\", accuracy_score(y_test,prediction))"
   ]
  },
  {
   "cell_type": "code",
   "execution_count": 5,
   "metadata": {},
   "outputs": [
    {
     "name": "stdout",
     "output_type": "stream",
     "text": [
      "Accuracy of KNN is: 0.9688\n"
     ]
    }
   ],
   "source": [
    "from sklearn.neighbors import KNeighborsClassifier\n",
    "\n",
    "knn = KNeighborsClassifier(n_neighbors=5)\n",
    "knn.fit(X_train, y_train)\n",
    "prediction = knn.predict(X_test)\n",
    "print(\"Accuracy of KNN is:\", accuracy_score(y_test,prediction))"
   ]
  },
  {
   "cell_type": "markdown",
   "metadata": {},
   "source": [
    "# Data Augmentation - Increasing the Training Set\n",
    "\n",
    "Here, we want to generate more images so that model has more images to learn from. <br>\n",
    "I've created a function called movePixel. <br>\n",
    "It takes input image, number of pixels to be moved, and axis as an argument. <br>\n",
    "The default value for axis is zero, which means the image moves up and down <br>"
   ]
  },
  {
   "cell_type": "code",
   "execution_count": 6,
   "metadata": {},
   "outputs": [],
   "source": [
    "def movePixel(input, pixelNum, axis=0):\n",
    "    pixels = pixelNum * 28\n",
    "    \n",
    "    if pixelNum > 0 and axis==0:  \n",
    "        temp = input[:, pixels:]\n",
    "        whitePixels = np.zeros((input.shape[0], pixels))\n",
    "\n",
    "        return np.column_stack((temp, whitePixels))\n",
    "    elif pixelNum < 0 and axis==0:\n",
    "        temp = input[:,:pixels]\n",
    "        whitePixels = np.zeros((input.shape[0], -pixels))\n",
    "        \n",
    "        return np.column_stack((whitePixels,temp))\n",
    "    elif pixelNum > 0 and axis==1:\n",
    "        temp = input.reshape(input.shape[0], 28, 28)\n",
    "        temp = temp[:, : ,:-pixelNum]\n",
    "        whitePixels = np.zeros((input.shape[0], 28, pixelNum))\n",
    "        temp = np.dstack((whitePixels, temp))\n",
    "        temp = temp.reshape(input.shape[0], 28*28)\n",
    "        return temp\n",
    "    else: \n",
    "        temp = input.reshape(input.shape[0], 28, 28)\n",
    "        temp = temp[:, : ,-pixelNum:]\n",
    "        whitePixels = np.zeros((input.shape[0], 28, -pixelNum))\n",
    "        temp = np.dstack((temp, whitePixels))\n",
    "        temp = temp.reshape(input.shape[0], 28*28)\n",
    "        return temp\n",
    "    \n",
    "    \n",
    "#I want to make the parameters for movePixel to be completely random, so we can have more unique images\n",
    "#So, the number of pixel parameter have a range of [-2, 2] excluding zero.\n",
    "#Also, the axis is randomized as well with the range of [0, 1].\n",
    "#The resulting array has 120000 training examples\n",
    "\n",
    "numPixel1 = np.random.uniform(1, 2, (60000, 1))  #range of [1,2]\n",
    "numPixel2 = np.random.uniform(-2, -1, (60000, 1)) #range of [-2, -1]\n",
    "axis = np.random.uniform(0,1, (120000,1)) \n",
    "temp = np.hstack((np.vstack((numPixel1,numPixel2)), axis)) #Stack numPixel1 and numPixel2 vertically. Then, attach axis horizontally\n",
    "temp[:,0], temp[:,1] = np.round(temp[:,0]), np.round(temp[:,1])\n",
    "temp = temp.astype(int) \n",
    "newImageArray = np.empty([120000, 784])\n",
    "\n",
    "for i in range(60000): #Go through X_train first time\n",
    "    newImage = movePixel(X_train[i,:].reshape([1,784]), temp[i,0], temp[i,1])\n",
    "    newImageArray[i,:] = newImage\n",
    "\n",
    "for i in range(60000,120000): #Go through X_train second time\n",
    "    newImage = movePixel(X_train[i-60000,:].reshape([1,784]), temp[i,0], temp[i,1])\n",
    "    newImageArray[i,:] = newImage\n",
    "    \n"
   ]
  },
  {
   "cell_type": "code",
   "execution_count": 7,
   "metadata": {},
   "outputs": [],
   "source": [
    "new_X_train = np.vstack((X_train, newImageArray)) #Stack newImages that we've created with exxisting training data\n",
    "new_y_train = np.concatenate((y_train, y_train, y_train)) #Stack Labels\n",
    "\n",
    "shuffle = np.hstack((new_X_train, new_y_train.reshape(180000,1))) #Stack images features with labels horizontally"
   ]
  },
  {
   "cell_type": "code",
   "execution_count": 8,
   "metadata": {},
   "outputs": [],
   "source": [
    "np.random.shuffle(shuffle) #Shuffle!\n",
    "new_X_train, new_y_train = shuffle[:,:784], shuffle[:,784] #Separate shuffled training X and y"
   ]
  },
  {
   "cell_type": "markdown",
   "metadata": {},
   "source": [
    "# Model Trained with More Training Data"
   ]
  },
  {
   "cell_type": "code",
   "execution_count": 9,
   "metadata": {},
   "outputs": [
    {
     "name": "stdout",
     "output_type": "stream",
     "text": [
      "Accuracy of New Random Forest is: 0.9784\n"
     ]
    }
   ],
   "source": [
    "newForest = RandomForestClassifier(n_estimators=100)\n",
    "\n",
    "    \n",
    "newForest.fit(new_X_train, new_y_train)\n",
    "prediction = newForest.predict(X_test)\n",
    "print(\"Accuracy of New Random Forest is:\", accuracy_score(y_test,prediction))\n"
   ]
  },
  {
   "cell_type": "code",
   "execution_count": 10,
   "metadata": {},
   "outputs": [
    {
     "name": "stdout",
     "output_type": "stream",
     "text": [
      "Accuracy of New KNN is: 0.9708\n"
     ]
    }
   ],
   "source": [
    "knn = KNeighborsClassifier(n_neighbors=5)\n",
    "knn.fit(new_X_train, new_y_train)\n",
    "prediction = knn.predict(X_test)\n",
    "print(\"Accuracy of New KNN is:\", accuracy_score(y_test,prediction))"
   ]
  },
  {
   "cell_type": "markdown",
   "metadata": {},
   "source": [
    "So, data augmentation improved the accuracy of both classifers by around 0.5% because the training data was multiplied 3 times. I think that accuracy of Random Forest Classifier, which is 97.8% is very good for MNIST Dataset. We probably can further increase the accuracy by multiplying the training set even more. "
   ]
  }
 ],
 "metadata": {
  "kernelspec": {
   "display_name": "Python 3",
   "language": "python",
   "name": "python3"
  },
  "language_info": {
   "codemirror_mode": {
    "name": "ipython",
    "version": 3
   },
   "file_extension": ".py",
   "mimetype": "text/x-python",
   "name": "python",
   "nbconvert_exporter": "python",
   "pygments_lexer": "ipython3",
   "version": "3.7.4"
  }
 },
 "nbformat": 4,
 "nbformat_minor": 2
}
